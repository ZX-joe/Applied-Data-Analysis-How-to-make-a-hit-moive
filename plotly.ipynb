{
 "cells": [
  {
   "cell_type": "code",
   "execution_count": 1,
   "metadata": {},
   "outputs": [],
   "source": [
    "%matplotlib inline\n",
    "import os\n",
    "import pandas as pd\n",
    "import numpy as np\n",
    "import matplotlib\n",
    "import matplotlib.pyplot as plt\n",
    "import seaborn as sns\n",
    "import re\n",
    "import scipy as sp\n",
    "import json\n",
    "import requests\n",
    "import warnings\n",
    "sns.set_context('notebook')\n",
    "warnings.filterwarnings('ignore')"
   ]
  },
  {
   "cell_type": "markdown",
   "metadata": {},
   "source": [
    "To make a hit movie,various features are deserved for detailed analysis, both value and non-value features. Also, for better visualization in this part, we use plotly library to get interactive figures of the relationships, which is also more suitable for later data story. The plotly figure may not been shown in the jupyter notebook, but they can been attatched in the folder named 'plotly_image'."
   ]
  },
  {
   "cell_type": "code",
   "execution_count": 3,
   "metadata": {},
   "outputs": [],
   "source": [
    "import plotly\n",
    "import plotly.plotly as py\n",
    "import plotly.graph_objs as go\n",
    "import plotly.figure_factory as ff\n",
    "import plotly.tools as tls\n",
    "from plotly.offline import download_plotlyjs, init_notebook_mode, plot, iplot\n",
    "import plotly\n",
    "plotly.tools.set_credentials_file(username='zx_haowan', api_key='J4Agcce1dOjvqiKRTpoO')"
   ]
  },
  {
   "cell_type": "code",
   "execution_count": 4,
   "metadata": {},
   "outputs": [
    {
     "data": {
      "text/html": [
       "<div>\n",
       "<style scoped>\n",
       "    .dataframe tbody tr th:only-of-type {\n",
       "        vertical-align: middle;\n",
       "    }\n",
       "\n",
       "    .dataframe tbody tr th {\n",
       "        vertical-align: top;\n",
       "    }\n",
       "\n",
       "    .dataframe thead th {\n",
       "        text-align: right;\n",
       "    }\n",
       "</style>\n",
       "<table border=\"1\" class=\"dataframe\">\n",
       "  <thead>\n",
       "    <tr style=\"text-align: right;\">\n",
       "      <th></th>\n",
       "      <th>title</th>\n",
       "      <th>overall</th>\n",
       "      <th>cast</th>\n",
       "      <th>budget</th>\n",
       "      <th>genres</th>\n",
       "      <th>keywords</th>\n",
       "      <th>original_language</th>\n",
       "      <th>popularity</th>\n",
       "      <th>production_companies</th>\n",
       "      <th>production_countries</th>\n",
       "      <th>revenue</th>\n",
       "      <th>runtime</th>\n",
       "      <th>spoken_languages</th>\n",
       "      <th>vote_average</th>\n",
       "      <th>vote_count</th>\n",
       "      <th>director</th>\n",
       "      <th>release_year</th>\n",
       "      <th>profit</th>\n",
       "      <th>title_change</th>\n",
       "    </tr>\n",
       "  </thead>\n",
       "  <tbody>\n",
       "    <tr>\n",
       "      <th>0</th>\n",
       "      <td>11:14</td>\n",
       "      <td>4.185714</td>\n",
       "      <td>[Henry Thomas, Blake Heron, Barbara Hershey, H...</td>\n",
       "      <td>6000000</td>\n",
       "      <td>[Crime, Drama, Thriller]</td>\n",
       "      <td>[alcohol, sex, robbery, secret, gun, ambulance...</td>\n",
       "      <td>en</td>\n",
       "      <td>15.048067</td>\n",
       "      <td>[Firm Films, Media 8 Entertainment, MDP Worldw...</td>\n",
       "      <td>[Canada, United States of America]</td>\n",
       "      <td>0</td>\n",
       "      <td>86.0</td>\n",
       "      <td>[English]</td>\n",
       "      <td>6.8</td>\n",
       "      <td>206</td>\n",
       "      <td>Greg Marcks</td>\n",
       "      <td>2003.0</td>\n",
       "      <td>-1.0</td>\n",
       "      <td>1</td>\n",
       "    </tr>\n",
       "  </tbody>\n",
       "</table>\n",
       "</div>"
      ],
      "text/plain": [
       "   title   overall                                               cast  \\\n",
       "0  11:14  4.185714  [Henry Thomas, Blake Heron, Barbara Hershey, H...   \n",
       "\n",
       "    budget                    genres  \\\n",
       "0  6000000  [Crime, Drama, Thriller]   \n",
       "\n",
       "                                            keywords original_language  \\\n",
       "0  [alcohol, sex, robbery, secret, gun, ambulance...                en   \n",
       "\n",
       "   popularity                               production_companies  \\\n",
       "0   15.048067  [Firm Films, Media 8 Entertainment, MDP Worldw...   \n",
       "\n",
       "                 production_countries  revenue  runtime spoken_languages  \\\n",
       "0  [Canada, United States of America]        0     86.0        [English]   \n",
       "\n",
       "   vote_average  vote_count     director  release_year  profit  title_change  \n",
       "0           6.8         206  Greg Marcks        2003.0    -1.0             1  "
      ]
     },
     "execution_count": 4,
     "metadata": {},
     "output_type": "execute_result"
    }
   ],
   "source": [
    "merge_an=merge_raw.copy()\n",
    "tmdb_data=pd.read_pickle('tmdb_data.pkl')\n",
    "merge_an=merge_an.groupby('title').mean()\n",
    "merge_an['title']=merge_an.index\n",
    "merge_an=merge_an[['title','overall']]\n",
    "merge_an=pd.merge(merge_an,tmdb_data,on='title')\n",
    "merge_an.head(1)"
   ]
  },
  {
   "cell_type": "code",
   "execution_count": 6,
   "metadata": {},
   "outputs": [],
   "source": [
    "def get_count(col):\n",
    "    temp_count = dict()\n",
    "    for row in col:\n",
    "        for temp_feature in row:\n",
    "            if temp_feature in temp_count:\n",
    "                temp_count[temp_feature] += 1\n",
    "            else:\n",
    "                temp_count[temp_feature] = 1\n",
    "    return temp_count"
   ]
  },
  {
   "cell_type": "code",
   "execution_count": 7,
   "metadata": {},
   "outputs": [],
   "source": [
    "def get_direcotr_count(col):\n",
    "    temp_count = dict()\n",
    "    for temp_director in col:\n",
    "            if temp_director in temp_count:\n",
    "                temp_count[temp_director] += 1\n",
    "            else:\n",
    "                temp_count[temp_director] = 1\n",
    "    return temp_count"
   ]
  },
  {
   "cell_type": "markdown",
   "metadata": {},
   "source": [
    "To make a hit movie, in addtion to simple numbers like budget and popularity, other text information is also informative. In this part we focus on the relationship between Amazon rating and non-value features like movie genres, directors and production companies."
   ]
  },
  {
   "cell_type": "markdown",
   "metadata": {},
   "source": [
    "The genres of movies are very informative, for example, in typical years , specific genres of movie tend to lead a fashion, and greatly affect the review, rating and other forms of evluation towards a film. First, an interactive evolution of movie genres is plotted."
   ]
  },
  {
   "cell_type": "code",
   "execution_count": 194,
   "metadata": {},
   "outputs": [
    {
     "data": {
      "text/html": [
       "<iframe id=\"igraph\" scrolling=\"no\" style=\"border:none;\" seamless=\"seamless\" src=\"https://plot.ly/~zx_haowan/10.embed\" height=\"525px\" width=\"100%\"></iframe>"
      ],
      "text/plain": [
       "<plotly.tools.PlotlyDisplay object>"
      ]
     },
     "execution_count": 194,
     "metadata": {},
     "output_type": "execute_result"
    }
   ],
   "source": [
    "genre_list=list(genres_stat.columns)\n",
    "potantial_color=['#fbb4ae','#b3cde3','#ccebc5','#decbe4','#fed9a6','#c7eae5','#e5d8bd','#fddaec','#f2f2f2','#fbb4ae','#b3cde3','#ccebc5','#decbe4','#fed9a6','#c7eae5','#e5d8bd','#fddaec','#f2f2f2','#fbb4ae','#b3cde3','#ccebc5','#decbe4','#fed9a6','#c7eae5','#e5d8bd','#fddaec','#f2f2f2','#fbb4ae','#b3cde3','#ccebc5']\n",
    "temp_line=[]\n",
    "for ind, genre in enumerate(genre_list):\n",
    "    temp_line.append(\n",
    "        go.Scatter(\n",
    "            x=genres_stat.index,\n",
    "            y=genres_stat[genre],\n",
    "            name=genre,legendgroup=genre,\n",
    "            line = dict(color = (potantial_color[ind]),width = 3),), )\n",
    "layout = go.Layout( autosize=True, title='Evoluation of Genres through Years',)\n",
    "fig = go.Figure(data=temp_line,layout=layout)\n",
    "plot(fig, show_link=False,filename='Evoluation of Genres through Years')\n",
    "py.iplot(fig,filename='Evoluation of Genres through Years')"
   ]
  },
  {
   "cell_type": "markdown",
   "metadata": {},
   "source": [
    "The plotly figure is stored in 'plotly_image/Evoluation of Genres through Years.html' in github."
   ]
  },
  {
   "cell_type": "markdown",
   "metadata": {},
   "source": [
    "Drama has always been a leading trend in history, followed by comedy and little attention is paid to foreign movies. The trend of other genres have been fluctuating through time and market of movies for that are usually changing."
   ]
  },
  {
   "cell_type": "markdown",
   "metadata": {},
   "source": [
    "Intuitvely, a genre will affect the rating and review length of a movie since a hot type will attract more people and arouse their thoughts for more review texts, so average rating and review length of each genre will be analyzed."
   ]
  },
  {
   "cell_type": "code",
   "execution_count": 133,
   "metadata": {},
   "outputs": [],
   "source": [
    "merge_an['review_length']=[len(temp_review) for temp_review in merge_an.reviewText]\n",
    "genres_count = pd.Series(get_count(merge_an['genres']))"
   ]
  },
  {
   "cell_type": "markdown",
   "metadata": {},
   "source": [
    "We dedine a function to extract the average value of a selected feature for each genre. The function can also be use in later analysis of production countries since they share the same sturcture in the original dataframe."
   ]
  },
  {
   "cell_type": "code",
   "execution_count": 121,
   "metadata": {},
   "outputs": [],
   "source": [
    "def get_avg_all(genres_count,genres,rev,merge_an):\n",
    "    rev_array=[]\n",
    "    for temp_genre in genres_count.index:\n",
    "        count=rev_sum=0\n",
    "        for i in range(len(merge_an)):\n",
    "            if temp_genre in merge_an[genres].values[i]:\n",
    "                count=count+1\n",
    "                temp_rev=merge_an[rev].values[i]\n",
    "                rev_sum=rev_sum+temp_rev\n",
    "        if count==0: temp_avg_rev=0\n",
    "        else: temp_avg_rev=rev_sum/count\n",
    "        rev_array=rev_array+[temp_avg_rev]\n",
    "    temp_pd=pd.DataFrame({genres:np.array(genres_count.index),rev:np.array(rev_array)})\n",
    "    return temp_pd"
   ]
  },
  {
   "cell_type": "markdown",
   "metadata": {},
   "source": [
    "We use the function to extract the feature values shown below."
   ]
  },
  {
   "cell_type": "code",
   "execution_count": 141,
   "metadata": {},
   "outputs": [
    {
     "data": {
      "text/html": [
       "<div>\n",
       "<style scoped>\n",
       "    .dataframe tbody tr th:only-of-type {\n",
       "        vertical-align: middle;\n",
       "    }\n",
       "\n",
       "    .dataframe tbody tr th {\n",
       "        vertical-align: top;\n",
       "    }\n",
       "\n",
       "    .dataframe thead th {\n",
       "        text-align: right;\n",
       "    }\n",
       "</style>\n",
       "<table border=\"1\" class=\"dataframe\">\n",
       "  <thead>\n",
       "    <tr style=\"text-align: right;\">\n",
       "      <th></th>\n",
       "      <th>genres</th>\n",
       "      <th>overall</th>\n",
       "      <th>popularity</th>\n",
       "      <th>review_length</th>\n",
       "      <th>revenue</th>\n",
       "      <th>vote_average</th>\n",
       "    </tr>\n",
       "  </thead>\n",
       "  <tbody>\n",
       "    <tr>\n",
       "      <th>0</th>\n",
       "      <td>Action</td>\n",
       "      <td>3.914473</td>\n",
       "      <td>29.624649</td>\n",
       "      <td>1012.696703</td>\n",
       "      <td>1.078980e+08</td>\n",
       "      <td>6.29199</td>\n",
       "    </tr>\n",
       "  </tbody>\n",
       "</table>\n",
       "</div>"
      ],
      "text/plain": [
       "   genres   overall  popularity  review_length       revenue  vote_average\n",
       "0  Action  3.914473   29.624649    1012.696703  1.078980e+08       6.29199"
      ]
     },
     "execution_count": 141,
     "metadata": {},
     "output_type": "execute_result"
    }
   ],
   "source": [
    "merge_an=merge_an.fillna(0)\n",
    "genre_overall=get_avg_all(genres_count,'genres','overall',merge_an)\n",
    "genre_pop=get_avg_all(genres_count,'genres','popularity',merge_an)\n",
    "temp_genre_pd=pd.merge(genre_overall,genre_pop,on='genres')\n",
    "genre_len=get_avg_all(genres_count,'genres','review_length',merge_an)\n",
    "temp_genre_pd=pd.merge(temp_genre_pd,genre_len,on='genres')\n",
    "genre_rev=get_avg_all(genres_count,'genres','revenue',merge_an)\n",
    "temp_genre_pd=pd.merge(temp_genre_pd,genre_rev,on='genres')\n",
    "genre_va=get_avg_all(genres_count,'genres','vote_average',merge_an)\n",
    "genre_pd=pd.merge(temp_genre_pd,genre_va,on='genres')\n",
    "genre_pd.head(1)"
   ]
  },
  {
   "cell_type": "markdown",
   "metadata": {},
   "source": [
    "We use a bar chart and line plot to show the distribution of average rating and review length."
   ]
  },
  {
   "cell_type": "code",
   "execution_count": 231,
   "metadata": {
    "scrolled": true
   },
   "outputs": [
    {
     "name": "stderr",
     "output_type": "stream",
     "text": [
      "D:\\python\\lib\\site-packages\\plotly\\graph_objs\\_deprecations.py:426: DeprecationWarning:\n",
      "\n",
      "plotly.graph_objs.Marker is deprecated.\n",
      "Please replace it with one of the following more specific types\n",
      "  - plotly.graph_objs.scatter.Marker\n",
      "  - plotly.graph_objs.histogram.selected.Marker\n",
      "  - etc.\n",
      "\n",
      "\n"
     ]
    },
    {
     "data": {
      "text/html": [
       "<iframe id=\"igraph\" scrolling=\"no\" style=\"border:none;\" seamless=\"seamless\" src=\"https://plot.ly/~zx_haowan/18.embed\" height=\"525px\" width=\"100%\"></iframe>"
      ],
      "text/plain": [
       "<plotly.tools.PlotlyDisplay object>"
      ]
     },
     "execution_count": 231,
     "metadata": {},
     "output_type": "execute_result"
    }
   ],
   "source": [
    "#genre_pd=genre_pd.drop(9,axis=0)\n",
    "va_fig=go.Bar(\n",
    "    x=list(genre_pd.genres),\n",
    "    y=genre_pd.overall.values,\n",
    "    name='Average Rating',\n",
    "    marker=go.Marker(color='#b3cde3')\n",
    ")\n",
    "len_fig=go.Scatter(\n",
    "    x=list(genre_pd.genres),\n",
    "    y=genre_pd.review_length.values,\n",
    "    name='Average Length of Review', yaxis='y2',line = dict(color = ('#fbb4ae'),width = 3))\n",
    "data=[va_fig,len_fig]\n",
    "layout=go.Layout(\n",
    "    title='Average Rating and Average Length of Review in All Genres',\n",
    "    titlefont=dict(size=20),\n",
    "    xaxis=dict(title='Genres' ),\n",
    "    yaxis=dict(title='Average Rating',showgrid=False, ),\n",
    "    yaxis2=dict(title='Average Length of Review',overlaying='y',showgrid=False,side='right'),\n",
    "    legend=dict(orientation=\"h\", x=.7,y=1.1,),)\n",
    "fig = go.Figure(data=data, layout=layout)\n",
    "py.iplot(fig,filename='genres_rating_vs_review_length')"
   ]
  },
  {
   "cell_type": "markdown",
   "metadata": {},
   "source": [
    "The plotly figure is stored in 'plotly_image/genres_rating_vs_review_length.html' in github."
   ]
  },
  {
   "cell_type": "markdown",
   "metadata": {},
   "source": [
    "Most genres share the close average rating with Science Fiction rated highest. However, \n",
    "Visually there is no direct relationship between average rating and review length among different genres, at leat no linear relationship."
   ]
  },
  {
   "cell_type": "code",
   "execution_count": 152,
   "metadata": {},
   "outputs": [],
   "source": [
    "max_pop=max(genre_pd.popularity)\n",
    "max_rev=max(genre_pd.revenue)\n",
    "max_va=max(genre_pd.vote_average)\n",
    "genre_pd['popularity']=genre_pd['popularity']/max_pop\n",
    "genre_pd['revenue']=genre_pd['revenue']/max_rev\n",
    "genre_pd['vote_average']=genre_pd['vote_average']/max_va"
   ]
  },
  {
   "cell_type": "markdown",
   "metadata": {},
   "source": [
    "Also, bar charts of popularity, revenue and average vote are shown. To make the features more visible, we divide each feature by the maximum value in them, thus sharing a same range of (0,1)."
   ]
  },
  {
   "cell_type": "code",
   "execution_count": 229,
   "metadata": {},
   "outputs": [
    {
     "data": {
      "text/html": [
       "<iframe id=\"igraph\" scrolling=\"no\" style=\"border:none;\" seamless=\"seamless\" src=\"https://plot.ly/~zx_haowan/16.embed\" height=\"525px\" width=\"100%\"></iframe>"
      ],
      "text/plain": [
       "<plotly.tools.PlotlyDisplay object>"
      ]
     },
     "execution_count": 229,
     "metadata": {},
     "output_type": "execute_result"
    }
   ],
   "source": [
    "potantial_color=['#b3cde3','#fbb4ae','#fed9a6']\n",
    "data = []\n",
    "for ind, value in enumerate(['popularity','revenue','vote_average']):\n",
    "    data.append(\n",
    "        go.Bar(\n",
    "            x=list(genre_pd.genres),\n",
    "            y=genre_pd[value],\n",
    "            name=value, \n",
    "            marker = dict(color = (potantial_color[ind]),\n",
    "            line = dict(color = (potantial_color[ind]),width = 3), ) )  )\n",
    "layout = go.Layout(autosize=True,title='Popularity, Revenue and Average for All genres',)\n",
    "fig = go.Figure(data=data,layout=layout)\n",
    "py.iplot(fig,filename='Popularity, Revenue and Average for All genres')"
   ]
  },
  {
   "cell_type": "markdown",
   "metadata": {},
   "source": [
    "The plotly figure is stored in 'plotly_image/genres_popularity_revenue_average.html' in github."
   ]
  },
  {
   "cell_type": "code",
   "execution_count": null,
   "metadata": {},
   "outputs": [],
   "source": []
  },
  {
   "cell_type": "code",
   "execution_count": null,
   "metadata": {},
   "outputs": [],
   "source": []
  },
  {
   "cell_type": "markdown",
   "metadata": {},
   "source": [
    "Director is also an important factor that lead to profit and review. Personally, if James Cameron directs a new movie, I will definitely go to the cinema for it and make my reviews after the payment. It's called the influence of celebrity. Compared with other crew or cast in movie procution, a director is perhaps the most important role in a movie, and we will analyze that."
   ]
  },
  {
   "cell_type": "code",
   "execution_count": 202,
   "metadata": {},
   "outputs": [],
   "source": [
    "director_count = pd.Series(get_direcotr_count(merge_an['director'])).sort_values(ascending=False)\n",
    "director_count=director_count[1:]\n",
    "director_an_df=pd.DataFrame(director_count)\n",
    "director_an_df['director']=director_an_df.index\n",
    "for temp_genres in genres_count.index:\n",
    "    director_an_df[temp_genres]=0\n",
    "for temp_overall in [1.0,2.0,3.0,4.0,5.0]:\n",
    "    director_an_df['overall '+str(temp_overall)]=0"
   ]
  },
  {
   "cell_type": "code",
   "execution_count": 210,
   "metadata": {},
   "outputs": [],
   "source": [
    "director_an_df[director_an_df.director=='Martin Scorsese']['overall 1.0'].values[0]=1"
   ]
  },
  {
   "cell_type": "code",
   "execution_count": 220,
   "metadata": {},
   "outputs": [
    {
     "data": {
      "text/html": [
       "<div>\n",
       "<style scoped>\n",
       "    .dataframe tbody tr th:only-of-type {\n",
       "        vertical-align: middle;\n",
       "    }\n",
       "\n",
       "    .dataframe tbody tr th {\n",
       "        vertical-align: top;\n",
       "    }\n",
       "\n",
       "    .dataframe thead th {\n",
       "        text-align: right;\n",
       "    }\n",
       "</style>\n",
       "<table border=\"1\" class=\"dataframe\">\n",
       "  <thead>\n",
       "    <tr style=\"text-align: right;\">\n",
       "      <th></th>\n",
       "      <th>0</th>\n",
       "      <th>director</th>\n",
       "      <th>Action</th>\n",
       "      <th>Adventure</th>\n",
       "      <th>Animation</th>\n",
       "      <th>Comedy</th>\n",
       "      <th>Crime</th>\n",
       "      <th>Documentary</th>\n",
       "      <th>Drama</th>\n",
       "      <th>Family</th>\n",
       "      <th>...</th>\n",
       "      <th>Science Fiction</th>\n",
       "      <th>TV Movie</th>\n",
       "      <th>Thriller</th>\n",
       "      <th>War</th>\n",
       "      <th>Western</th>\n",
       "      <th>overall 1.0</th>\n",
       "      <th>overall 2.0</th>\n",
       "      <th>overall 3.0</th>\n",
       "      <th>overall 4.0</th>\n",
       "      <th>overall 5.0</th>\n",
       "    </tr>\n",
       "  </thead>\n",
       "  <tbody>\n",
       "    <tr>\n",
       "      <th>Martin Scorsese</th>\n",
       "      <td>1202</td>\n",
       "      <td>Martin Scorsese</td>\n",
       "      <td>1</td>\n",
       "      <td>0</td>\n",
       "      <td>0</td>\n",
       "      <td>0</td>\n",
       "      <td>823</td>\n",
       "      <td>0</td>\n",
       "      <td>1202</td>\n",
       "      <td>0</td>\n",
       "      <td>...</td>\n",
       "      <td>0</td>\n",
       "      <td>0</td>\n",
       "      <td>0</td>\n",
       "      <td>0</td>\n",
       "      <td>0</td>\n",
       "      <td>52</td>\n",
       "      <td>53</td>\n",
       "      <td>90</td>\n",
       "      <td>228</td>\n",
       "      <td>779</td>\n",
       "    </tr>\n",
       "  </tbody>\n",
       "</table>\n",
       "<p>1 rows × 27 columns</p>\n",
       "</div>"
      ],
      "text/plain": [
       "                    0         director  Action  Adventure  Animation  Comedy  \\\n",
       "Martin Scorsese  1202  Martin Scorsese       1          0          0       0   \n",
       "\n",
       "                 Crime  Documentary  Drama  Family     ...       \\\n",
       "Martin Scorsese    823            0   1202       0     ...        \n",
       "\n",
       "                 Science Fiction  TV Movie  Thriller  War  Western  \\\n",
       "Martin Scorsese                0         0         0    0        0   \n",
       "\n",
       "                 overall 1.0  overall 2.0  overall 3.0  overall 4.0  \\\n",
       "Martin Scorsese           52           53           90          228   \n",
       "\n",
       "                 overall 5.0  \n",
       "Martin Scorsese          779  \n",
       "\n",
       "[1 rows x 27 columns]"
      ]
     },
     "execution_count": 220,
     "metadata": {},
     "output_type": "execute_result"
    }
   ],
   "source": [
    "for temp_director in director_count.index:\n",
    "    for i in range(len(merge_an)):\n",
    "        if temp_director==merge_an.director.values[i]:\n",
    "            temp_overall=merge_an.overall.values[i]\n",
    "            director_an_df['overall '+str(temp_overall)][temp_director]=director_an_df['overall '+str(temp_overall)][temp_director]+1\n",
    "            for temp_genre in merge_an.genres[i]:\n",
    "                director_an_df[temp_genre][temp_director]=director_an_df[temp_genre][temp_director]+1\n",
    "director_an_df.head(1)"
   ]
  },
  {
   "cell_type": "code",
   "execution_count": null,
   "metadata": {},
   "outputs": [],
   "source": []
  },
  {
   "cell_type": "code",
   "execution_count": null,
   "metadata": {},
   "outputs": [],
   "source": []
  },
  {
   "cell_type": "markdown",
   "metadata": {},
   "source": [
    "By getting the average rating for each director, we get the plot of top 10 directors that participate in most movies and their corresponding average rating."
   ]
  },
  {
   "cell_type": "code",
   "execution_count": 185,
   "metadata": {},
   "outputs": [],
   "source": [
    "director_count = pd.Series(get_direcotr_count(merge_an['director'])).sort_values(ascending=False)\n",
    "director_count=director_count[1:]\n",
    "director_count_df=pd.DataFrame(director_count)\n",
    "director_count_df['director']=director_count_df.index\n",
    "director_count_df['count']=director_count_df[0]\n",
    "director_count_df.reset_index(inplace=True)\n",
    "director_count_df=director_count_df[['director','count']]\n",
    "director_count_df['total_rating']=0\n",
    "for temp_director in merge_an.director:\n",
    "    total_merge_temp_director=merge_an[merge_an['director']==temp_director]\n",
    "    temp_total_rating=total_merge_temp_director.overall.sum()\n",
    "    temp_index=director_count_df[director_count_df['director']==temp_director].index\n",
    "    director_count_df.total_rating[temp_index]=total_merge_temp_director.overall.sum()\n",
    "director_count_df['average_rating']=director_count_df['total_rating']/director_count_df['count']"
   ]
  },
  {
   "cell_type": "code",
   "execution_count": 227,
   "metadata": {},
   "outputs": [
    {
     "data": {
      "text/html": [
       "<iframe id=\"igraph\" scrolling=\"no\" style=\"border:none;\" seamless=\"seamless\" src=\"https://plot.ly/~zx_haowan/12.embed\" height=\"525px\" width=\"100%\"></iframe>"
      ],
      "text/plain": [
       "<plotly.tools.PlotlyDisplay object>"
      ]
     },
     "execution_count": 227,
     "metadata": {},
     "output_type": "execute_result"
    }
   ],
   "source": [
    "director_count_df=director_count_df.iloc[:20]\n",
    "layout = go.Layout(xaxis = dict(tickangle = 30,tickfont = dict(size = 10)),\n",
    "                  yaxis=dict(type='linear',range=[1, 5],dtick=0.1 ),title='Average Rating for Top 20 Popular Directors')\n",
    "data = [go.Bar(x=director_count_df.director, y=director_count_df.average_rating,\n",
    "            marker=dict(\n",
    "                color=['#fbb4ae','#b3cde3','#ccebc5','#decbe4','#fed9a6','#c7eae5','#e5d8bd','#fddaec','#f2f2f2','#fbb4ae','#b3cde3','#ccebc5','#decbe4','#fed9a6','#c7eae5','#e5d8bd','#fddaec','#f2f2f2','#fbb4ae','#b3cde3','#ccebc5','#decbe4','#fed9a6','#c7eae5','#e5d8bd','#fddaec','#f2f2f2','#fbb4ae','#b3cde3','#ccebc5']\n",
    "            ),\n",
    "            opacity=0.8\n",
    "        )]\n",
    "fig = go.Figure(data=data, layout=layout)\n",
    "#plot(fig, show_link=True,filename='director_rating')\n",
    "py.iplot(fig,filename='director_rating')"
   ]
  },
  {
   "cell_type": "markdown",
   "metadata": {},
   "source": [
    "The plotly figure is stored in 'plotly_image/director_rating.html' in github."
   ]
  },
  {
   "cell_type": "markdown",
   "metadata": {},
   "source": [
    "Since these 10 directors participate in more movies than others, they have their own charms. All of them get a rating over 3.0 and most of them have a rating over 4.0, which can show their ability of directing movies to some degree, making them popular when making a movie."
   ]
  },
  {
   "cell_type": "code",
   "execution_count": 78,
   "metadata": {},
   "outputs": [
    {
     "data": {
      "text/html": [
       "<div>\n",
       "<style scoped>\n",
       "    .dataframe tbody tr th:only-of-type {\n",
       "        vertical-align: middle;\n",
       "    }\n",
       "\n",
       "    .dataframe tbody tr th {\n",
       "        vertical-align: top;\n",
       "    }\n",
       "\n",
       "    .dataframe thead th {\n",
       "        text-align: right;\n",
       "    }\n",
       "</style>\n",
       "<table border=\"1\" class=\"dataframe\">\n",
       "  <thead>\n",
       "    <tr style=\"text-align: right;\">\n",
       "      <th></th>\n",
       "      <th>director</th>\n",
       "      <th>average_rating</th>\n",
       "      <th>profit</th>\n",
       "      <th>vote_average</th>\n",
       "    </tr>\n",
       "  </thead>\n",
       "  <tbody>\n",
       "    <tr>\n",
       "      <th>0</th>\n",
       "      <td>Martin Scorsese</td>\n",
       "      <td>4.207628</td>\n",
       "      <td>-1.0</td>\n",
       "      <td>6.6</td>\n",
       "    </tr>\n",
       "  </tbody>\n",
       "</table>\n",
       "</div>"
      ],
      "text/plain": [
       "          director  average_rating  profit  vote_average\n",
       "0  Martin Scorsese        4.207628    -1.0           6.6"
      ]
     },
     "execution_count": 78,
     "metadata": {},
     "output_type": "execute_result"
    }
   ],
   "source": [
    "director_va_profit=pd.merge(director_count_df,merge_an,on='director')\n",
    "director_va_profit=director_va_profit[['director','average_rating','profit','vote_average']]\n",
    "director_va_profit.fillna(0)\n",
    "director_va_profit.head(1)"
   ]
  },
  {
   "cell_type": "markdown",
   "metadata": {},
   "source": [
    "The profit proportion and average vote in TMDB are also calculated for top 10 directors and then plotted."
   ]
  },
  {
   "cell_type": "code",
   "execution_count": 86,
   "metadata": {},
   "outputs": [
    {
     "data": {
      "text/html": [
       "<div>\n",
       "<style scoped>\n",
       "    .dataframe tbody tr th:only-of-type {\n",
       "        vertical-align: middle;\n",
       "    }\n",
       "\n",
       "    .dataframe tbody tr th {\n",
       "        vertical-align: top;\n",
       "    }\n",
       "\n",
       "    .dataframe thead th {\n",
       "        text-align: right;\n",
       "    }\n",
       "</style>\n",
       "<table border=\"1\" class=\"dataframe\">\n",
       "  <thead>\n",
       "    <tr style=\"text-align: right;\">\n",
       "      <th></th>\n",
       "      <th>director</th>\n",
       "      <th>average_rating</th>\n",
       "      <th>profit</th>\n",
       "      <th>vote_average</th>\n",
       "    </tr>\n",
       "  </thead>\n",
       "  <tbody>\n",
       "    <tr>\n",
       "      <th>0</th>\n",
       "      <td>Brian De Palma</td>\n",
       "      <td>3.476032</td>\n",
       "      <td>0.837493</td>\n",
       "      <td>6.116667</td>\n",
       "    </tr>\n",
       "    <tr>\n",
       "      <th>1</th>\n",
       "      <td>Woody Allen</td>\n",
       "      <td>3.752109</td>\n",
       "      <td>4.734506</td>\n",
       "      <td>6.666667</td>\n",
       "    </tr>\n",
       "  </tbody>\n",
       "</table>\n",
       "</div>"
      ],
      "text/plain": [
       "         director  average_rating    profit  vote_average\n",
       "0  Brian De Palma        3.476032  0.837493      6.116667\n",
       "1     Woody Allen        3.752109  4.734506      6.666667"
      ]
     },
     "execution_count": 86,
     "metadata": {},
     "output_type": "execute_result"
    }
   ],
   "source": [
    "director_va_profit=director_va_profit.groupby('average_rating').mean()\n",
    "director_va_profit=director_va_profit.iloc[:10]\n",
    "director_va_profit=pd.merge(director_count_df,director_va_profit,on='average_rating')\n",
    "director_va_profit=director_va_profit[['director','average_rating','profit','vote_average']]\n",
    "director_va_profit.head(2)"
   ]
  },
  {
   "cell_type": "code",
   "execution_count": 228,
   "metadata": {},
   "outputs": [
    {
     "data": {
      "text/html": [
       "<iframe id=\"igraph\" scrolling=\"no\" style=\"border:none;\" seamless=\"seamless\" src=\"https://plot.ly/~zx_haowan/14.embed\" height=\"525px\" width=\"100%\"></iframe>"
      ],
      "text/plain": [
       "<plotly.tools.PlotlyDisplay object>"
      ]
     },
     "execution_count": 228,
     "metadata": {},
     "output_type": "execute_result"
    }
   ],
   "source": [
    "potantial_color=['#b3cde3','#fbb4ae']\n",
    "data = []\n",
    "for ind, value in enumerate(['profit','vote_average']):\n",
    "    data.append(\n",
    "        go.Bar(\n",
    "            x=list(director_va_profit.director),\n",
    "            y=director_va_profit[value],\n",
    "            name=value, \n",
    "            marker = dict(color = (potantial_color[ind]),\n",
    "            line = dict(color = (potantial_color[ind]),width = 3), ) ))\n",
    "layout = go.Layout(autosize=True,title='Average Vote and Profit for Top 10 Popular Directors',)\n",
    "fig = go.Figure(data=data,layout=layout)\n",
    "#plot(fig, show_link=True,filename='director_vote_average_and_profit_3')\n",
    "py.iplot(fig,filename='director_vote_average_and_profit_3')"
   ]
  },
  {
   "cell_type": "markdown",
   "metadata": {},
   "source": [
    "The plotly figure is stored in 'plotly_image/director_vote_average_and_profit_3.html' in github."
   ]
  },
  {
   "cell_type": "markdown",
   "metadata": {},
   "source": [
    "Those directors are popular for reasons, maybe they do not always make a movie that has a good reputation shown by vote, but they can bring the movie producers profits with great probability. The average profit proportion of these popular directors are all greater than 0, some even reach the profit proportion of 5! From the point of movie producers, they care about relationship between revenue and budget most, which can be shown by the feature value of profit. Thus, making an invitation to popular directors lead to a shorter path for money making."
   ]
  },
  {
   "cell_type": "code",
   "execution_count": null,
   "metadata": {},
   "outputs": [],
   "source": []
  },
  {
   "cell_type": "code",
   "execution_count": null,
   "metadata": {},
   "outputs": [],
   "source": []
  },
  {
   "cell_type": "code",
   "execution_count": null,
   "metadata": {},
   "outputs": [],
   "source": []
  },
  {
   "cell_type": "code",
   "execution_count": null,
   "metadata": {},
   "outputs": [],
   "source": []
  },
  {
   "cell_type": "markdown",
   "metadata": {},
   "source": [
    "Production companies of movies also lead to an intuitive thought, since they consist of a whole group of crew. Maybe some of them are not as famous as a hot director, their stable cooperation inside a mutual company will definitely affect the quality of a movie. "
   ]
  },
  {
   "cell_type": "code",
   "execution_count": 166,
   "metadata": {},
   "outputs": [],
   "source": [
    "company_count = pd.Series(get_count(merge_an['production_companies']))\n",
    "company_count = company_count.sort_values(ascending=False) \n",
    "company_count=company_count[:10]"
   ]
  },
  {
   "cell_type": "markdown",
   "metadata": {},
   "source": [
    "We also calculate the average value of several features of 10 production companies that make most movies, since they have a stable number of movie production, and their values avoid a chance of randomness that exist in small companies."
   ]
  },
  {
   "cell_type": "code",
   "execution_count": 170,
   "metadata": {},
   "outputs": [
    {
     "data": {
      "text/html": [
       "<div>\n",
       "<style scoped>\n",
       "    .dataframe tbody tr th:only-of-type {\n",
       "        vertical-align: middle;\n",
       "    }\n",
       "\n",
       "    .dataframe tbody tr th {\n",
       "        vertical-align: top;\n",
       "    }\n",
       "\n",
       "    .dataframe thead th {\n",
       "        text-align: right;\n",
       "    }\n",
       "</style>\n",
       "<table border=\"1\" class=\"dataframe\">\n",
       "  <thead>\n",
       "    <tr style=\"text-align: right;\">\n",
       "      <th></th>\n",
       "      <th>overall</th>\n",
       "      <th>production_companies</th>\n",
       "      <th>vote_average</th>\n",
       "      <th>budget</th>\n",
       "      <th>revenue</th>\n",
       "    </tr>\n",
       "  </thead>\n",
       "  <tbody>\n",
       "    <tr>\n",
       "      <th>0</th>\n",
       "      <td>4.037447</td>\n",
       "      <td>Warner Bros.</td>\n",
       "      <td>6.583984</td>\n",
       "      <td>5.234810e+07</td>\n",
       "      <td>1.770056e+08</td>\n",
       "    </tr>\n",
       "  </tbody>\n",
       "</table>\n",
       "</div>"
      ],
      "text/plain": [
       "    overall production_companies  vote_average        budget       revenue\n",
       "0  4.037447         Warner Bros.      6.583984  5.234810e+07  1.770056e+08"
      ]
     },
     "execution_count": 170,
     "metadata": {},
     "output_type": "execute_result"
    }
   ],
   "source": [
    "company_overall=get_avg_all(company_count,'production_companies','overall',merge_an)\n",
    "company_va=get_avg_all(company_count,'production_companies','vote_average',merge_an)\n",
    "temp_company_pd=pd.merge(company_overall,company_va,on='production_companies')\n",
    "company_budget=get_avg_all(company_count,'production_companies','budget',merge_an)\n",
    "temp_company_pd=pd.merge(temp_company_pd,company_budget,on='production_companies')\n",
    "company_rev=get_avg_all(company_count,'production_companies','revenue',merge_an)\n",
    "company_pd=pd.merge(temp_company_pd,company_rev,on='production_companies')\n",
    "company_pd.head(1)"
   ]
  },
  {
   "cell_type": "code",
   "execution_count": 184,
   "metadata": {},
   "outputs": [
    {
     "data": {
      "text/html": [
       "<iframe id=\"igraph\" scrolling=\"no\" style=\"border:none;\" seamless=\"seamless\" src=\"https://plot.ly/~zx_haowan/1.embed\" height=\"525px\" width=\"100%\"></iframe>"
      ],
      "text/plain": [
       "<plotly.tools.PlotlyDisplay object>"
      ]
     },
     "execution_count": 184,
     "metadata": {},
     "output_type": "execute_result"
    }
   ],
   "source": [
    "potantial_color=['#b3cdee','#fbb4aa','#fed9b2','#cceba1']\n",
    "data1=data2 = []\n",
    "for ind, value in enumerate(['budget','revenue']):\n",
    "    data1.append(\n",
    "        go.Bar(\n",
    "            x=list(company_pd.production_companies),\n",
    "            y=company_pd[value],\n",
    "            name=value, \n",
    "            marker = dict(color = (potantial_color[ind]),\n",
    "            line = dict(color = (potantial_color[ind]),width = 3), ) )  )\n",
    "for ind, value in enumerate(['overall','vote_average']):\n",
    "    data2.append(\n",
    "        go.Scatter(\n",
    "            x=list(company_pd.production_companies),\n",
    "            y=company_pd[value],\n",
    "            yaxis='y2',\n",
    "            name=value,legendgroup=value,\n",
    "            line = dict(color = (potantial_color[2+ind]),width = 3),), )\n",
    "layout = go.Layout(autosize=True,    \n",
    "                   xaxis=dict(title='Companies' ),\n",
    "                   yaxis=dict(title='Money in Budget or Revenue',showgrid=False, ),\n",
    "                   yaxis2=dict(title='Average Rating or Vote',overlaying='y',showgrid=False,side='right'),\n",
    "                   legend=dict(orientation=\"h\", x=.7,y=1.1,),)\n",
    "data=[data1,data2]\n",
    "fig = go.Figure(data=data2,layout=layout)\n",
    "py.iplot(fig, filename='Distribution for Top 10 Movie Companies')"
   ]
  },
  {
   "cell_type": "markdown",
   "metadata": {},
   "source": [
    "The plotly figure is stored in 'plotly_image/Distribution for Top 10 Movie Companies.html' in github."
   ]
  },
  {
   "cell_type": "markdown",
   "metadata": {},
   "source": [
    "Large companies always lead to high revenue and high budget-to-revenue ratio as well. The top movie-maker company Warner Bros. lead to the highest average revenue, and making its role in the market of movie making. Also it seems that rating and vote have the same trend among these companies, since the shape of line plots are similar."
   ]
  },
  {
   "cell_type": "markdown",
   "metadata": {},
   "source": [
    "So far we finish the analysis of most intuitive non-value features like genres, directors and production countries. They all help us discover some interesting things, and especially they show the correlation between Amazon rating and TMDB vote, they seem to have a close relationship with each other. Later we will focus on the analysis of value featurs, using mathematical stastical method as well as machine learning algorithms. Also, though the above analysis does not show a causal relationship between review length and rating, intuitively they have a strong relationship between each other, and we will use text propessing method to deeper analyze the inside text features of the reviews."
   ]
  },
  {
   "cell_type": "code",
   "execution_count": null,
   "metadata": {},
   "outputs": [],
   "source": []
  },
  {
   "cell_type": "code",
   "execution_count": null,
   "metadata": {},
   "outputs": [],
   "source": []
  }
 ],
 "metadata": {
  "kernelspec": {
   "display_name": "Python 3",
   "language": "python",
   "name": "python3"
  },
  "language_info": {
   "codemirror_mode": {
    "name": "ipython",
    "version": 3
   },
   "file_extension": ".py",
   "mimetype": "text/x-python",
   "name": "python",
   "nbconvert_exporter": "python",
   "pygments_lexer": "ipython3",
   "version": "3.5.6"
  }
 },
 "nbformat": 4,
 "nbformat_minor": 2
}
